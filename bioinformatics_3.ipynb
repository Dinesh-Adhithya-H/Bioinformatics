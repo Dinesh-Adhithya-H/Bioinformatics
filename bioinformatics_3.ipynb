{
 "cells": [
  {
   "cell_type": "markdown",
   "metadata": {},
   "source": [
    "# Motif Finding Problem"
   ]
  },
  {
   "cell_type": "code",
   "execution_count": 9,
   "metadata": {},
   "outputs": [],
   "source": [
    "def search(dnas,d,pattern):\n",
    "    c=0\n",
    "    k=len(pattern)\n",
    "    for i in dnas:\n",
    "        for j in range(len(i)-k+1):\n",
    "            text=i[j:j+k]\n",
    "            if hamming_distance(pattern,text)<=d:\n",
    "                c+=1\n",
    "                break\n",
    "    if c==len(dnas):\n",
    "        return(1)\n",
    "    else:\n",
    "        return(0)"
   ]
  },
  {
   "cell_type": "code",
   "execution_count": 10,
   "metadata": {},
   "outputs": [],
   "source": [
    "def hamming_distance(text1,text2):\n",
    "    d=0\n",
    "    for i in range(len(text1)):\n",
    "        if text1[i]!=text2[i]:\n",
    "            d+=1\n",
    "    return(d)"
   ]
  },
  {
   "cell_type": "code",
   "execution_count": 11,
   "metadata": {},
   "outputs": [],
   "source": [
    "import itertools as it\n",
    "def kmer_generator(k):\n",
    "    x=list(it.product(\"ATGC\",repeat=k))\n",
    "    return(x)"
   ]
  },
  {
   "cell_type": "code",
   "execution_count": 12,
   "metadata": {},
   "outputs": [],
   "source": [
    "def neighbors(pattern,d):\n",
    "    k=len(pattern)\n",
    "    kmer=kmer_generator(k)\n",
    "    neigh=[]\n",
    "    for i in kmer:\n",
    "        if (hamming_distance(i,pattern)<=d):\n",
    "            neigh.append(i)\n",
    "    neigh=list(dict.fromkeys(neigh))\n",
    "    return(neigh)"
   ]
  },
  {
   "cell_type": "code",
   "execution_count": 13,
   "metadata": {},
   "outputs": [],
   "source": [
    "def motifenumeration(dna,k,d):\n",
    "    patterns=[]\n",
    "    for j in dna:\n",
    "        for m in range(len(dna[0])-k+1):\n",
    "            pattern=j[m:m+k]\n",
    "            list_pattern=neighbors(pattern,d)\n",
    "            for m1 in list_pattern:\n",
    "                if search(dna,d,m1)==1:\n",
    "                    patterns.append(m1)\n",
    "    patterns=list(dict.fromkeys(patterns))\n",
    "    return(patterns)"
   ]
  },
  {
   "cell_type": "code",
   "execution_count": 14,
   "metadata": {},
   "outputs": [],
   "source": [
    "x=motifenumeration([\"CACCTATTAACGCCACCCTCTCGAA\",\n",
    "\"GTTACCAGAATCCGGGAAAGGGTGA\",\n",
    "\"AGGCCCCCATTAGAATGCGGAACAA\",\n",
    "\"GCTCAATGAAGCCGTAGGCCGTACA\",\n",
    "\"GGTACCGGCGCAATCCTAAACGGAA\",\n",
    "\"GTAGGCACTACGTATGTCCAAGGAA\"],5,2);"
   ]
  },
  {
   "cell_type": "markdown",
   "metadata": {},
   "source": [
    "# Median String problem"
   ]
  },
  {
   "cell_type": "code",
   "execution_count": 21,
   "metadata": {},
   "outputs": [],
   "source": [
    "def median_string(dna,k):\n",
    "    k_list=kmer_generator(k)\n",
    "    min_list=[]\n",
    "    min_score=100000000000000000\n",
    "    score_=0\n",
    "    for i in k_list:\n",
    "        score_=score(i,dna)\n",
    "        if (score_<min_score):\n",
    "            min_list=[]\n",
    "            min_list.append(i)\n",
    "            min_score=score_\n",
    "        elif (score_==min_score):\n",
    "            min_list.append(i)\n",
    "    return(min_list)"
   ]
  },
  {
   "cell_type": "code",
   "execution_count": 34,
   "metadata": {},
   "outputs": [],
   "source": [
    "def score(txt,dna):\n",
    "    score_c=0\n",
    "    score_f=0\n",
    "    for i in dna:\n",
    "        min_score=1000000000000\n",
    "        for j in range(len(i)-len(txt)+1):\n",
    "            score_c=hamming_distance(txt,i[j:j+len(txt)])\n",
    "            if (score_c<min_score):\n",
    "                min_score=score_c\n",
    "        score_f+=min_score\n",
    "    return(int(score_f))"
   ]
  },
  {
   "cell_type": "code",
   "execution_count": 35,
   "metadata": {},
   "outputs": [
    {
     "data": {
      "text/plain": [
       "[('A', 'C', 'G'), ('C', 'G', 'T')]"
      ]
     },
     "execution_count": 35,
     "metadata": {},
     "output_type": "execute_result"
    }
   ],
   "source": [
    "median_string(\n",
    "[\"ACGT\",\"ACGT\",\"ACGT\",\"ACGT\"],3)"
   ]
  },
  {
   "cell_type": "code",
   "execution_count": 36,
   "metadata": {},
   "outputs": [
    {
     "data": {
      "text/plain": [
       "5"
      ]
     },
     "execution_count": 36,
     "metadata": {},
     "output_type": "execute_result"
    }
   ],
   "source": [
    "score(\"AAA\",\n",
    "[\"TTACCTTAAC\", \"GATATCTGTC\", \"ACGGCGTTCG\" ,\"CCCTAAAGAG\" ,\"CGTCAGAGGT\"])"
   ]
  },
  {
   "cell_type": "code",
   "execution_count": 54,
   "metadata": {},
   "outputs": [],
   "source": [
    "x=open(\"dataset_5164_1 (2).txt\")\n",
    "m1=x.read()\n",
    "m2=m1.split(\"\\n\")"
   ]
  },
  {
   "cell_type": "code",
   "execution_count": 55,
   "metadata": {},
   "outputs": [],
   "source": [
    "x2=m2[1].split(\" \")"
   ]
  },
  {
   "cell_type": "code",
   "execution_count": 56,
   "metadata": {},
   "outputs": [],
   "source": [
    "x1=m2[0]"
   ]
  },
  {
   "cell_type": "code",
   "execution_count": 57,
   "metadata": {},
   "outputs": [
    {
     "data": {
      "text/plain": [
       "'CACTT'"
      ]
     },
     "execution_count": 57,
     "metadata": {},
     "output_type": "execute_result"
    }
   ],
   "source": [
    "x1"
   ]
  },
  {
   "cell_type": "code",
   "execution_count": 58,
   "metadata": {},
   "outputs": [
    {
     "data": {
      "text/plain": [
       "38"
      ]
     },
     "execution_count": 58,
     "metadata": {},
     "output_type": "execute_result"
    }
   ],
   "source": [
    "score(x1,x2)"
   ]
  },
  {
   "cell_type": "code",
   "execution_count": 60,
   "metadata": {},
   "outputs": [
    {
     "data": {
      "text/plain": [
       "[('G', 'A', 'C')]"
      ]
     },
     "execution_count": 60,
     "metadata": {},
     "output_type": "execute_result"
    }
   ],
   "source": [
    "median_string(\n",
    "[\"AAATTGACGCAT\",\n",
    "\"GACGACCACGTT\",\n",
    "\"CGTCAGCGCCTG\",\n",
    "\"GCTGAGCACCGG\",\n",
    "\"AGTTCGGGACAG\"],3)"
   ]
  },
  {
   "cell_type": "code",
   "execution_count": 61,
   "metadata": {},
   "outputs": [
    {
     "data": {
      "text/plain": [
       "[('T', 'A', 'A', 'T', 'A', 'T')]"
      ]
     },
     "execution_count": 61,
     "metadata": {},
     "output_type": "execute_result"
    }
   ],
   "source": [
    "median_string([\"TAATATTCATAAACACACAAGACAAGGGCACAAATAAGATCA\",\n",
    "\"CGTAACTAATATCGGGCTCTTTCATGCCGAAGCCAGAACAGT\",\n",
    "\"GTCGGTATCTGCGAAAGTTAATATTGGGTCTATATACGTAAA\",\n",
    "\"TTGTCAGTCAAGTAATACTACCGATGGGCGTCTCCAACAATG\",\n",
    "\"ATGACATAATATGGTGCGTACCAGGTTCTAAATGCATGAACG\",\n",
    "\"TCTTAGAAGGCTAGCTGTAGGTCGGGGGTGCCACTATAATAG\",\n",
    "\"GTACTTATACCCTAATAATGGATTTTGCCGTCGCGTTAGTTA\",\n",
    "\"GTTGCCATTAATCCTACAATGCCGAATATCTAATATACTAAT\",\n",
    "\"TAGGTACACTTGGTAGCAAGTCGATCAAGGACGTAGTAATAG\",\n",
    "\"TAATACTTCATCGGAATCAATCGAAGCAGTTTGAGCCCTACC\"],6\n",
    ")"
   ]
  },
  {
   "cell_type": "markdown",
   "metadata": {},
   "source": [
    "# Most probable kmer in text"
   ]
  },
  {
   "cell_type": "code",
   "execution_count": 62,
   "metadata": {},
   "outputs": [],
   "source": [
    "def profile_prob(text,k,matrix):\n",
    "    prob_matrix=[]\n",
    "    prob=0\n",
    "    prob_max=0\n",
    "    for i in range(len(text)-k+1):\n",
    "        kmer=text[i:i+k]\n",
    "        prob=find_prob(kmer,matrix)\n",
    "        if prob>prob_max:\n",
    "            prob_matrix=[]\n",
    "            prob_max=prob\n",
    "            prob_matrix.append(kmer)\n",
    "        elif prob==prob_max:\n",
    "            prob_matrix.append(kmer)\n",
    "    return(prob_matrix)"
   ]
  },
  {
   "cell_type": "code",
   "execution_count": 114,
   "metadata": {},
   "outputs": [],
   "source": [
    "def find_prob(kmer,matrix):\n",
    "    number=\"\"\n",
    "    prob=1\n",
    "    for j in kmer:\n",
    "        if j==\"A\":\n",
    "            number+=\"0\"\n",
    "        elif j==\"C\":\n",
    "            number+=\"1\"\n",
    "        elif j==\"G\":\n",
    "            number+=\"2\"\n",
    "        else:\n",
    "            number+=\"3\"\n",
    "    for i in range(len(number)):\n",
    "        x=(matrix[int(number[i])][i])\n",
    "        prob=prob*float(x)\n",
    "    return(prob)     "
   ]
  },
  {
   "cell_type": "code",
   "execution_count": 100,
   "metadata": {},
   "outputs": [
    {
     "data": {
      "text/plain": [
       "['CCGAG']"
      ]
     },
     "execution_count": 100,
     "metadata": {},
     "output_type": "execute_result"
    }
   ],
   "source": [
    "profile_prob(\"ACCTGTTTATTGCCTAAGTTCCGAACAAACCCAATATAGCCCGAGGGCCT\",\n",
    "5,\n",
    "[[0.2 ,0.2, 0.3, 0.2, 0.3],\n",
    "[0.4 ,0.3 ,0.1 ,0.5 ,0.1],\n",
    "[0.3 ,0.3 ,0.5 ,0.2 ,0.4],\n",
    "[0.1 ,0.2, 0.1, 0.1, 0.2]])"
   ]
  },
  {
   "cell_type": "code",
   "execution_count": 117,
   "metadata": {},
   "outputs": [],
   "source": [
    "file2=open(\"dataset_159_3 (3).txt\")"
   ]
  },
  {
   "cell_type": "code",
   "execution_count": 118,
   "metadata": {},
   "outputs": [],
   "source": [
    "x3=file2.read()"
   ]
  },
  {
   "cell_type": "code",
   "execution_count": 119,
   "metadata": {},
   "outputs": [],
   "source": [
    "x4=x3.split(\"\\n\")"
   ]
  },
  {
   "cell_type": "code",
   "execution_count": 120,
   "metadata": {},
   "outputs": [],
   "source": [
    "x4[0];"
   ]
  },
  {
   "cell_type": "code",
   "execution_count": 121,
   "metadata": {},
   "outputs": [],
   "source": [
    "x5=int(x4[1])"
   ]
  },
  {
   "cell_type": "code",
   "execution_count": 122,
   "metadata": {},
   "outputs": [],
   "source": [
    "x6=list((x4[2].split(\" \"),x4[3].split(\" \"),x4[4].split(\" \"),x4[5].split(\" \")));"
   ]
  },
  {
   "cell_type": "code",
   "execution_count": null,
   "metadata": {},
   "outputs": [],
   "source": [
    "\n"
   ]
  },
  {
   "cell_type": "code",
   "execution_count": 124,
   "metadata": {},
   "outputs": [
    {
     "data": {
      "text/plain": [
       "4"
      ]
     },
     "execution_count": 124,
     "metadata": {},
     "output_type": "execute_result"
    }
   ],
   "source": [
    "int(4)"
   ]
  },
  {
   "cell_type": "code",
   "execution_count": 125,
   "metadata": {},
   "outputs": [
    {
     "data": {
      "text/plain": [
       "['CGCGTGCGCCCTCG']"
      ]
     },
     "execution_count": 125,
     "metadata": {},
     "output_type": "execute_result"
    }
   ],
   "source": [
    "profile_prob(x4[0],x5,x6)"
   ]
  },
  {
   "cell_type": "markdown",
   "metadata": {},
   "source": [
    "# Greedy motif search "
   ]
  },
  {
   "cell_type": "code",
   "execution_count": 126,
   "metadata": {},
   "outputs": [],
   "source": [
    "def greedymotif(dna,k,t):\n",
    "    best_motifs=[]\n",
    "    for i in dna:\n",
    "        best_motifs.append(i[0:k])\n",
    "        for j in range(len(dna[0])-k+1):\n",
    "            motifs=[dna[0][i:i+k]]\n",
    "            for k in range(1,t):\n",
    "                motifs.append(best_motifs[1:k])\n",
    "                motifs.append(most_prob(motifs))\n",
    "                motifs.append(best_motifs[k+1:t-1])\n",
    "            if score(motifs)<score(best_motifs):\n",
    "                best_motifs=motifs\n",
    "    return(best_motifs)"
   ]
  },
  {
   "cell_type": "code",
   "execution_count": null,
   "metadata": {},
   "outputs": [],
   "source": []
  }
 ],
 "metadata": {
  "kernelspec": {
   "display_name": "Python 3",
   "language": "python",
   "name": "python3"
  },
  "language_info": {
   "codemirror_mode": {
    "name": "ipython",
    "version": 3
   },
   "file_extension": ".py",
   "mimetype": "text/x-python",
   "name": "python",
   "nbconvert_exporter": "python",
   "pygments_lexer": "ipython3",
   "version": "3.7.4"
  }
 },
 "nbformat": 4,
 "nbformat_minor": 2
}
