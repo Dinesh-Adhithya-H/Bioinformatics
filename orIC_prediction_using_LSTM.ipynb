{
  "nbformat": 4,
  "nbformat_minor": 0,
  "metadata": {
    "colab": {
      "name": "orIC_prediction_using_LSTM.ipynb",
      "provenance": [],
      "collapsed_sections": [],
      "authorship_tag": "ABX9TyOZoRu/N9/fakp7Si3pUU+F",
      "include_colab_link": true
    },
    "kernelspec": {
      "name": "python3",
      "display_name": "Python 3"
    },
    "language_info": {
      "name": "python"
    }
  },
  "cells": [
    {
      "cell_type": "markdown",
      "metadata": {
        "id": "view-in-github",
        "colab_type": "text"
      },
      "source": [
        "<a href=\"https://colab.research.google.com/github/Dinesh-Adhithya-H/Bioinformatics/blob/master/orIC_prediction_using_LSTM.ipynb\" target=\"_parent\"><img src=\"https://colab.research.google.com/assets/colab-badge.svg\" alt=\"Open In Colab\"/></a>"
      ]
    },
    {
      "cell_type": "code",
      "metadata": {
        "colab": {
          "base_uri": "https://localhost:8080/"
        },
        "id": "Mkmg9smZfoFC",
        "outputId": "2ef7a5f3-09cf-48d0-a253-e68260b0c66d"
      },
      "source": [
        "!wget https://raw.githubusercontent.com/Dinesh-Adhithya-H/Bioinformatics/master/positive-sequences.txt\n",
        "!wget https://raw.githubusercontent.com/Dinesh-Adhithya-H/Bioinformatics/master/negative-sequences.txt\n",
        "!wget https://raw.githubusercontent.com/Dinesh-Adhithya-H/Bioinformatics/master/90_sdandard.txt"
      ],
      "execution_count": 1,
      "outputs": [
        {
          "output_type": "stream",
          "text": [
            "--2021-05-14 11:52:23--  https://raw.githubusercontent.com/Dinesh-Adhithya-H/Bioinformatics/master/positive-sequences.txt\n",
            "Resolving raw.githubusercontent.com (raw.githubusercontent.com)... 185.199.108.133, 185.199.109.133, 185.199.110.133, ...\n",
            "Connecting to raw.githubusercontent.com (raw.githubusercontent.com)|185.199.108.133|:443... connected.\n",
            "HTTP request sent, awaiting response... 200 OK\n",
            "Length: 123928 (121K) [text/plain]\n",
            "Saving to: ‘positive-sequences.txt’\n",
            "\n",
            "positive-sequences. 100%[===================>] 121.02K  --.-KB/s    in 0.01s   \n",
            "\n",
            "2021-05-14 11:52:24 (8.10 MB/s) - ‘positive-sequences.txt’ saved [123928/123928]\n",
            "\n",
            "--2021-05-14 11:52:24--  https://raw.githubusercontent.com/Dinesh-Adhithya-H/Bioinformatics/master/negative-sequences.txt\n",
            "Resolving raw.githubusercontent.com (raw.githubusercontent.com)... 185.199.108.133, 185.199.109.133, 185.199.110.133, ...\n",
            "Connecting to raw.githubusercontent.com (raw.githubusercontent.com)|185.199.108.133|:443... connected.\n",
            "HTTP request sent, awaiting response... 200 OK\n",
            "Length: 124236 (121K) [text/plain]\n",
            "Saving to: ‘negative-sequences.txt’\n",
            "\n",
            "negative-sequences. 100%[===================>] 121.32K  --.-KB/s    in 0.02s   \n",
            "\n",
            "2021-05-14 11:52:24 (7.40 MB/s) - ‘negative-sequences.txt’ saved [124236/124236]\n",
            "\n",
            "--2021-05-14 11:52:24--  https://raw.githubusercontent.com/Dinesh-Adhithya-H/Bioinformatics/master/90_sdandard.txt\n",
            "Resolving raw.githubusercontent.com (raw.githubusercontent.com)... 185.199.108.133, 185.199.109.133, 185.199.110.133, ...\n",
            "Connecting to raw.githubusercontent.com (raw.githubusercontent.com)|185.199.108.133|:443... connected.\n",
            "HTTP request sent, awaiting response... 200 OK\n",
            "Length: 9133 (8.9K) [text/plain]\n",
            "Saving to: ‘90_sdandard.txt’\n",
            "\n",
            "90_sdandard.txt     100%[===================>]   8.92K  --.-KB/s    in 0s      \n",
            "\n",
            "2021-05-14 11:52:24 (76.5 MB/s) - ‘90_sdandard.txt’ saved [9133/9133]\n",
            "\n"
          ],
          "name": "stdout"
        }
      ]
    },
    {
      "cell_type": "code",
      "metadata": {
        "id": "aUah7_r6m-Vu"
      },
      "source": [
        "import pandas as pd\n",
        "import matplotlib.pyplot as plt\n",
        "import sklearn as sk\n",
        "import numpy as np\n",
        "import tensorflow as tf"
      ],
      "execution_count": 2,
      "outputs": []
    },
    {
      "cell_type": "code",
      "metadata": {
        "id": "_0jWYYgAnIDG"
      },
      "source": [
        "positive_sequences=open(\"/content/positive-sequences.txt\",\"r\")\n",
        "negative_sequences=open(\"/content/negative-sequences.txt\",\"r\")"
      ],
      "execution_count": 3,
      "outputs": []
    },
    {
      "cell_type": "code",
      "metadata": {
        "id": "1qZaWJaznMcC"
      },
      "source": [
        "p_data=positive_sequences.readlines()\n",
        "n_data=negative_sequences.readlines()"
      ],
      "execution_count": 4,
      "outputs": []
    },
    {
      "cell_type": "code",
      "metadata": {
        "id": "owYCnUUwnO41"
      },
      "source": [
        "p_data=p_data[1::2]\n",
        "n_data=n_data[1::2]"
      ],
      "execution_count": 5,
      "outputs": []
    },
    {
      "cell_type": "code",
      "metadata": {
        "id": "5YV02P3lnQ-n"
      },
      "source": [
        "p=[]\n",
        "n=[]\n",
        "size=10\n",
        "for i in p_data:\n",
        "  text=i.rstrip(\"\\n\")\n",
        "  holder=\"\"\n",
        "  for j in range(0,len(text)-size):\n",
        "    holder+=text[j:j+size]+\" \"\n",
        "  p.append(holder)\n",
        "for i in n_data:\n",
        "  text=i.rstrip(\"\\n\")\n",
        "  holder=\"\"\n",
        "  for j in range(0,len(text)-size):\n",
        "    holder+=text[j:j+size]+\" \"\n",
        "  n.append(holder)"
      ],
      "execution_count": 6,
      "outputs": []
    },
    {
      "cell_type": "code",
      "metadata": {
        "id": "60eDwYHpnWjl"
      },
      "source": [
        "from tensorflow.keras.preprocessing.text import Tokenizer\n",
        "tokenizer=Tokenizer()"
      ],
      "execution_count": 7,
      "outputs": []
    },
    {
      "cell_type": "code",
      "metadata": {
        "colab": {
          "base_uri": "https://localhost:8080/"
        },
        "id": "FjsQWZAppdCi",
        "outputId": "d62ff99b-fc00-492c-fe10-ae055de54288"
      },
      "source": [
        "len(p+n),len(p),len(n)"
      ],
      "execution_count": 8,
      "outputs": [
        {
          "output_type": "execute_result",
          "data": {
            "text/plain": [
              "(811, 405, 406)"
            ]
          },
          "metadata": {
            "tags": []
          },
          "execution_count": 8
        }
      ]
    },
    {
      "cell_type": "code",
      "metadata": {
        "id": "ZKzxKmmko3Xj"
      },
      "source": [
        "tokenizer.fit_on_texts(p+n)"
      ],
      "execution_count": 10,
      "outputs": []
    },
    {
      "cell_type": "code",
      "metadata": {
        "colab": {
          "base_uri": "https://localhost:8080/"
        },
        "id": "MXQsIftwpTUb",
        "outputId": "00e19e7b-5e55-446c-9af1-1cc0b63199a6"
      },
      "source": [
        "tokenizer.word_index"
      ],
      "execution_count": 11,
      "outputs": [
        {
          "output_type": "execute_result",
          "data": {
            "text/plain": [
              "{'aa': 2,\n",
              " 'ac': 11,\n",
              " 'ag': 10,\n",
              " 'at': 3,\n",
              " 'ca': 6,\n",
              " 'cc': 13,\n",
              " 'cg': 16,\n",
              " 'ct': 9,\n",
              " 'ga': 7,\n",
              " 'gc': 15,\n",
              " 'gg': 14,\n",
              " 'gt': 12,\n",
              " 'ta': 4,\n",
              " 'tc': 8,\n",
              " 'tg': 5,\n",
              " 'tt': 1}"
            ]
          },
          "metadata": {
            "tags": []
          },
          "execution_count": 11
        }
      ]
    },
    {
      "cell_type": "code",
      "metadata": {
        "id": "f6BwACubpYMF"
      },
      "source": [
        "sequences=tokenizer.texts_to_sequences(p+n)"
      ],
      "execution_count": 12,
      "outputs": []
    },
    {
      "cell_type": "code",
      "metadata": {
        "id": "nf6dis5MqpRn"
      },
      "source": [
        "y=[]\n",
        "for i in range(len(p)):\n",
        "  y.append(1.0)\n",
        "for i in range(len(n)):\n",
        "  y.append(0.0)"
      ],
      "execution_count": 13,
      "outputs": []
    },
    {
      "cell_type": "code",
      "metadata": {
        "id": "4VfQrf40qrFW"
      },
      "source": [
        "from sklearn.utils import shuffle"
      ],
      "execution_count": 14,
      "outputs": []
    },
    {
      "cell_type": "code",
      "metadata": {
        "id": "ivoOLky-v9b1"
      },
      "source": [
        "sequences,y=shuffle(sequences,y)"
      ],
      "execution_count": 15,
      "outputs": []
    },
    {
      "cell_type": "code",
      "metadata": {
        "id": "QN-gpsrjwEh-"
      },
      "source": [
        "from sklearn.model_selection import train_test_split\n",
        "x_train,x_test,y_train,y_test=train_test_split(sequences,y)"
      ],
      "execution_count": 16,
      "outputs": []
    },
    {
      "cell_type": "code",
      "metadata": {
        "id": "uBNUES6Owjcs"
      },
      "source": [
        "vocab_size=len(p+n)\n",
        "embedding_dim=30\n",
        "max_length=len(p[0])"
      ],
      "execution_count": 17,
      "outputs": []
    },
    {
      "cell_type": "code",
      "metadata": {
        "id": "uf1hUUIw6Lrv"
      },
      "source": [
        "x_train=np.array(x_train)\n",
        "y_train=np.array(y_train)"
      ],
      "execution_count": 18,
      "outputs": []
    },
    {
      "cell_type": "code",
      "metadata": {
        "id": "blEXDEsupECs"
      },
      "source": [
        "# Implement callback function to stop training\n",
        "# when accuracy reaches e.g. ACCURACY_THRESHOLD = 0.95\n",
        "ACCURACY_THRESHOLD = 0.8\n",
        "class myCallback(tf.keras.callbacks.Callback): \n",
        "    def on_epoch_end(self, epoch, logs={}): \n",
        "        if(logs.get('acc') > ACCURACY_THRESHOLD):   \n",
        "          self.model.stop_training = True"
      ],
      "execution_count": 19,
      "outputs": []
    },
    {
      "cell_type": "code",
      "metadata": {
        "id": "Zyug8lCHpQ_F"
      },
      "source": [
        "callbacks = myCallback()"
      ],
      "execution_count": 20,
      "outputs": []
    },
    {
      "cell_type": "code",
      "metadata": {
        "id": "dDkKBmMHLjl7"
      },
      "source": [
        "from tensorflow.keras import backend as K\n",
        "def error(y_true,y_pred):\n",
        "  return K.dot(1 - y_true,tf.transpose(y_pred))"
      ],
      "execution_count": 21,
      "outputs": []
    },
    {
      "cell_type": "code",
      "metadata": {
        "colab": {
          "base_uri": "https://localhost:8080/"
        },
        "id": "9WhzMhX5wYEG",
        "outputId": "3125c7db-f280-4af0-b6e4-e4e6e5702a8d"
      },
      "source": [
        "model=tf.keras.Sequential([\n",
        "  tf.keras.layers.Embedding(len(tokenizer.word_index)+1, embedding_dim),\n",
        "  tf.keras.layers.Bidirectional(tf.keras.layers.LSTM(10)),\n",
        "  tf.keras.layers.Dense(100,activation=\"relu\"),\n",
        "  tf.keras.layers.Dense(100,activation=\"relu\"),\n",
        "  tf.keras.layers.Dense(100,activation=\"relu\"),\n",
        "  tf.keras.layers.Dense(1,activation=\"sigmoid\")\n",
        "])\n",
        "model.compile(loss=\"binary_crossentropy\",optimizer=\"adam\",metrics=[\"accuracy\"])\n",
        "model.summary()"
      ],
      "execution_count": 22,
      "outputs": [
        {
          "output_type": "stream",
          "text": [
            "Model: \"sequential\"\n",
            "_________________________________________________________________\n",
            "Layer (type)                 Output Shape              Param #   \n",
            "=================================================================\n",
            "embedding (Embedding)        (None, None, 30)          510       \n",
            "_________________________________________________________________\n",
            "bidirectional (Bidirectional (None, 20)                3280      \n",
            "_________________________________________________________________\n",
            "dense (Dense)                (None, 100)               2100      \n",
            "_________________________________________________________________\n",
            "dense_1 (Dense)              (None, 100)               10100     \n",
            "_________________________________________________________________\n",
            "dense_2 (Dense)              (None, 100)               10100     \n",
            "_________________________________________________________________\n",
            "dense_3 (Dense)              (None, 1)                 101       \n",
            "=================================================================\n",
            "Total params: 26,191\n",
            "Trainable params: 26,191\n",
            "Non-trainable params: 0\n",
            "_________________________________________________________________\n"
          ],
          "name": "stdout"
        }
      ]
    },
    {
      "cell_type": "code",
      "metadata": {
        "colab": {
          "base_uri": "https://localhost:8080/"
        },
        "id": "ksPGWcm_wt6P",
        "outputId": "5b47e449-e0a1-4f04-8d06-6a4a3375dce6"
      },
      "source": [
        "history=model.fit(x_train,y_train,validation_data=(x_test,y_test),epochs=31,verbose=1)"
      ],
      "execution_count": 23,
      "outputs": [
        {
          "output_type": "stream",
          "text": [
            "Epoch 1/31\n",
            "19/19 [==============================] - 6s 179ms/step - loss: 0.6933 - accuracy: 0.4845 - val_loss: 0.6932 - val_accuracy: 0.5025\n",
            "Epoch 2/31\n",
            "19/19 [==============================] - 2s 119ms/step - loss: 0.6931 - accuracy: 0.4976 - val_loss: 0.6928 - val_accuracy: 0.5123\n",
            "Epoch 3/31\n",
            "19/19 [==============================] - 2s 111ms/step - loss: 0.6916 - accuracy: 0.5637 - val_loss: 0.6914 - val_accuracy: 0.5123\n",
            "Epoch 4/31\n",
            "19/19 [==============================] - 2s 113ms/step - loss: 0.6872 - accuracy: 0.5471 - val_loss: 0.6893 - val_accuracy: 0.5616\n",
            "Epoch 5/31\n",
            "19/19 [==============================] - 2s 110ms/step - loss: 0.6772 - accuracy: 0.5602 - val_loss: 0.6849 - val_accuracy: 0.5369\n",
            "Epoch 6/31\n",
            "19/19 [==============================] - 2s 119ms/step - loss: 0.6655 - accuracy: 0.5994 - val_loss: 0.6649 - val_accuracy: 0.6059\n",
            "Epoch 7/31\n",
            "19/19 [==============================] - 2s 110ms/step - loss: 0.6424 - accuracy: 0.6228 - val_loss: 0.6385 - val_accuracy: 0.6502\n",
            "Epoch 8/31\n",
            "19/19 [==============================] - 2s 112ms/step - loss: 0.6034 - accuracy: 0.6586 - val_loss: 0.5001 - val_accuracy: 0.7931\n",
            "Epoch 9/31\n",
            "19/19 [==============================] - 2s 111ms/step - loss: 0.5683 - accuracy: 0.6934 - val_loss: 0.6004 - val_accuracy: 0.6749\n",
            "Epoch 10/31\n",
            "19/19 [==============================] - 2s 118ms/step - loss: 0.5288 - accuracy: 0.7696 - val_loss: 0.4771 - val_accuracy: 0.8227\n",
            "Epoch 11/31\n",
            "19/19 [==============================] - 2s 114ms/step - loss: 0.4905 - accuracy: 0.7936 - val_loss: 0.5200 - val_accuracy: 0.7783\n",
            "Epoch 12/31\n",
            "19/19 [==============================] - 2s 110ms/step - loss: 0.4816 - accuracy: 0.7868 - val_loss: 0.4757 - val_accuracy: 0.8128\n",
            "Epoch 13/31\n",
            "19/19 [==============================] - 2s 121ms/step - loss: 0.4732 - accuracy: 0.7945 - val_loss: 0.5046 - val_accuracy: 0.7685\n",
            "Epoch 14/31\n",
            "19/19 [==============================] - 2s 119ms/step - loss: 0.4578 - accuracy: 0.7726 - val_loss: 0.5806 - val_accuracy: 0.7291\n",
            "Epoch 15/31\n",
            "19/19 [==============================] - 2s 111ms/step - loss: 0.5040 - accuracy: 0.7603 - val_loss: 0.5177 - val_accuracy: 0.8030\n",
            "Epoch 16/31\n",
            "19/19 [==============================] - 2s 111ms/step - loss: 0.5102 - accuracy: 0.7734 - val_loss: 0.5258 - val_accuracy: 0.7783\n",
            "Epoch 17/31\n",
            "19/19 [==============================] - 2s 113ms/step - loss: 0.4650 - accuracy: 0.7834 - val_loss: 0.5323 - val_accuracy: 0.7537\n",
            "Epoch 18/31\n",
            "19/19 [==============================] - 2s 112ms/step - loss: 0.4652 - accuracy: 0.7844 - val_loss: 0.5931 - val_accuracy: 0.7094\n",
            "Epoch 19/31\n",
            "19/19 [==============================] - 2s 110ms/step - loss: 0.4777 - accuracy: 0.7767 - val_loss: 0.4861 - val_accuracy: 0.7833\n",
            "Epoch 20/31\n",
            "19/19 [==============================] - 2s 115ms/step - loss: 0.4267 - accuracy: 0.8126 - val_loss: 0.4849 - val_accuracy: 0.7980\n",
            "Epoch 21/31\n",
            "19/19 [==============================] - 2s 122ms/step - loss: 0.4520 - accuracy: 0.8035 - val_loss: 0.4885 - val_accuracy: 0.8030\n",
            "Epoch 22/31\n",
            "19/19 [==============================] - 2s 121ms/step - loss: 0.3855 - accuracy: 0.8378 - val_loss: 0.4665 - val_accuracy: 0.7980\n",
            "Epoch 23/31\n",
            "19/19 [==============================] - 2s 114ms/step - loss: 0.3467 - accuracy: 0.8780 - val_loss: 0.4772 - val_accuracy: 0.8079\n",
            "Epoch 24/31\n",
            "19/19 [==============================] - 2s 115ms/step - loss: 0.4228 - accuracy: 0.8260 - val_loss: 0.4830 - val_accuracy: 0.7980\n",
            "Epoch 25/31\n",
            "19/19 [==============================] - 2s 114ms/step - loss: 0.3835 - accuracy: 0.8585 - val_loss: 0.4791 - val_accuracy: 0.7980\n",
            "Epoch 26/31\n",
            "19/19 [==============================] - 2s 114ms/step - loss: 0.4147 - accuracy: 0.8268 - val_loss: 0.5220 - val_accuracy: 0.7685\n",
            "Epoch 27/31\n",
            "19/19 [==============================] - 2s 120ms/step - loss: 0.4814 - accuracy: 0.8014 - val_loss: 0.5255 - val_accuracy: 0.7685\n",
            "Epoch 28/31\n",
            "19/19 [==============================] - 2s 114ms/step - loss: 0.4822 - accuracy: 0.7889 - val_loss: 0.5569 - val_accuracy: 0.7488\n",
            "Epoch 29/31\n",
            "19/19 [==============================] - 2s 111ms/step - loss: 0.4664 - accuracy: 0.7796 - val_loss: 0.5185 - val_accuracy: 0.7882\n",
            "Epoch 30/31\n",
            "19/19 [==============================] - 2s 115ms/step - loss: 0.4537 - accuracy: 0.8022 - val_loss: 0.5459 - val_accuracy: 0.7044\n",
            "Epoch 31/31\n",
            "19/19 [==============================] - 2s 118ms/step - loss: 0.5093 - accuracy: 0.7285 - val_loss: 0.4895 - val_accuracy: 0.8079\n"
          ],
          "name": "stdout"
        }
      ]
    },
    {
      "cell_type": "code",
      "metadata": {
        "colab": {
          "base_uri": "https://localhost:8080/"
        },
        "id": "57LRGmSowzUM",
        "outputId": "8cf98acb-ae85-4094-b1a1-4ef417e85c5f"
      },
      "source": [
        "len(x_train),len(y_train)"
      ],
      "execution_count": 24,
      "outputs": [
        {
          "output_type": "execute_result",
          "data": {
            "text/plain": [
              "(608, 608)"
            ]
          },
          "metadata": {
            "tags": []
          },
          "execution_count": 24
        }
      ]
    },
    {
      "cell_type": "code",
      "metadata": {
        "colab": {
          "base_uri": "https://localhost:8080/",
          "height": 265
        },
        "id": "ZUO0o4IxxHd7",
        "outputId": "99de7521-f31e-4faf-d0a7-a769f6447b9f"
      },
      "source": [
        "plt.hist(model.predict(x_test))\n",
        "plt.show()"
      ],
      "execution_count": 25,
      "outputs": [
        {
          "output_type": "display_data",
          "data": {
            "image/png": "[encoded data removed]",
            "text/plain": [
              "<Figure size 432x288 with 1 Axes>"
            ]
          },
          "metadata": {
            "tags": [],
            "needs_background": "light"
          }
        }
      ]
    },
    {
      "cell_type": "code",
      "metadata": {
        "id": "G8j-U2nW0pxd",
        "colab": {
          "base_uri": "https://localhost:8080/",
          "height": 541
        },
        "outputId": "7027116d-7fc2-4401-83df-ed4b6f668b61"
      },
      "source": [
        "import matplotlib.pyplot as plt\n",
        "\n",
        "\n",
        "def plot_graphs(history, string):\n",
        "  plt.plot(history.history[string])\n",
        "  plt.plot(history.history['val_'+string])\n",
        "  plt.xlabel(\"Epochs\")\n",
        "  plt.ylabel(string)\n",
        "  plt.legend([string, 'val_'+string])\n",
        "  plt.show()\n",
        "  \n",
        "plot_graphs(history, \"accuracy\")\n",
        "plot_graphs(history, \"loss\")"
      ],
      "execution_count": 26,
      "outputs": [
        {
          "output_type": "display_data",
          "data": {
            "image/png": "[encoded data removed]",
            "text/plain": [
              "<Figure size 432x288 with 1 Axes>"
            ]
          },
          "metadata": {
            "tags": [],
            "needs_background": "light"
          }
        },
        {
          "output_type": "display_data",
          "data": {
            "image/png": "[encoded data removed]",
            "text/plain": [
              "<Figure size 432x288 with 1 Axes>"
            ]
          },
          "metadata": {
            "tags": [],
            "needs_background": "light"
          }
        }
      ]
    },
    {
      "cell_type": "code",
      "metadata": {
        "colab": {
          "base_uri": "https://localhost:8080/"
        },
        "id": "wH4SbzM3q9sK",
        "outputId": "cc898d45-d887-4c11-c6dc-92c8efc56997"
      },
      "source": [
        "e = model.layers[0]\n",
        "weights = e.get_weights()[0]\n",
        "print(weights.shape) "
      ],
      "execution_count": null,
      "outputs": [
        {
          "output_type": "stream",
          "text": [
            "(65, 30)\n"
          ],
          "name": "stdout"
        }
      ]
    },
    {
      "cell_type": "code",
      "metadata": {
        "id": "p-2r0M8Rrzv6"
      },
      "source": [
        "wi=tokenizer.word_index\n",
        "keys=list(wi.keys())\n",
        "decode=dict()\n",
        "val=list(wi.values())\n",
        "j=0\n",
        "for i in val:\n",
        "  decode[i]=keys[j]\n",
        "  j+=1"
      ],
      "execution_count": null,
      "outputs": []
    },
    {
      "cell_type": "code",
      "metadata": {
        "id": "LF9pOU28rLKH"
      },
      "source": [
        "import io\n",
        "out_v = io.open('vecs.tsv', 'w', encoding='utf-8')\n",
        "out_m = io.open('meta.tsv', 'w', encoding='utf-8')\n",
        "for word_num in range(1,len(tokenizer.word_index)+1):\n",
        "  word = decode[word_num]\n",
        "  embeddings = weights[word_num]\n",
        "  out_m.write(word + \"\\n\")\n",
        "  out_v.write('\\t'.join([str(x) for x in embeddings]) + \"\\n\")\n",
        "out_v.close()\n",
        "out_m.close()"
      ],
      "execution_count": null,
      "outputs": []
    },
    {
      "cell_type": "code",
      "metadata": {
        "colab": {
          "base_uri": "https://localhost:8080/",
          "height": 17
        },
        "id": "Ga_ov9chrPaV",
        "outputId": "3a7421a2-e11d-4686-afe6-b00f0aafde83"
      },
      "source": [
        "from google.colab import files\n",
        "files.download('vecs.tsv')\n",
        "files.download('meta.tsv')"
      ],
      "execution_count": null,
      "outputs": [
        {
          "output_type": "display_data",
          "data": {
            "application/javascript": [
              "\n",
              "    async function download(id, filename, size) {\n",
              "      if (!google.colab.kernel.accessAllowed) {\n",
              "        return;\n",
              "      }\n",
              "      const div = document.createElement('div');\n",
              "      const label = document.createElement('label');\n",
              "      label.textContent = `Downloading \"${filename}\": `;\n",
              "      div.appendChild(label);\n",
              "      const progress = document.createElement('progress');\n",
              "      progress.max = size;\n",
              "      div.appendChild(progress);\n",
              "      document.body.appendChild(div);\n",
              "\n",
              "      const buffers = [];\n",
              "      let downloaded = 0;\n",
              "\n",
              "      const channel = await google.colab.kernel.comms.open(id);\n",
              "      // Send a message to notify the kernel that we're ready.\n",
              "      channel.send({})\n",
              "\n",
              "      for await (const message of channel.messages) {\n",
              "        // Send a message to notify the kernel that we're ready.\n",
              "        channel.send({})\n",
              "        if (message.buffers) {\n",
              "          for (const buffer of message.buffers) {\n",
              "            buffers.push(buffer);\n",
              "            downloaded += buffer.byteLength;\n",
              "            progress.value = downloaded;\n",
              "          }\n",
              "        }\n",
              "      }\n",
              "      const blob = new Blob(buffers, {type: 'application/binary'});\n",
              "      const a = document.createElement('a');\n",
              "      a.href = window.URL.createObjectURL(blob);\n",
              "      a.download = filename;\n",
              "      div.appendChild(a);\n",
              "      a.click();\n",
              "      div.remove();\n",
              "    }\n",
              "  "
            ],
            "text/plain": [
              "<IPython.core.display.Javascript object>"
            ]
          },
          "metadata": {
            "tags": []
          }
        },
        {
          "output_type": "display_data",
          "data": {
            "application/javascript": [
              "download(\"download_b7c1a7f0-7450-415c-b77a-6c02249361ef\", \"vecs.tsv\", 23474)"
            ],
            "text/plain": [
              "<IPython.core.display.Javascript object>"
            ]
          },
          "metadata": {
            "tags": []
          }
        },
        {
          "output_type": "display_data",
          "data": {
            "application/javascript": [
              "\n",
              "    async function download(id, filename, size) {\n",
              "      if (!google.colab.kernel.accessAllowed) {\n",
              "        return;\n",
              "      }\n",
              "      const div = document.createElement('div');\n",
              "      const label = document.createElement('label');\n",
              "      label.textContent = `Downloading \"${filename}\": `;\n",
              "      div.appendChild(label);\n",
              "      const progress = document.createElement('progress');\n",
              "      progress.max = size;\n",
              "      div.appendChild(progress);\n",
              "      document.body.appendChild(div);\n",
              "\n",
              "      const buffers = [];\n",
              "      let downloaded = 0;\n",
              "\n",
              "      const channel = await google.colab.kernel.comms.open(id);\n",
              "      // Send a message to notify the kernel that we're ready.\n",
              "      channel.send({})\n",
              "\n",
              "      for await (const message of channel.messages) {\n",
              "        // Send a message to notify the kernel that we're ready.\n",
              "        channel.send({})\n",
              "        if (message.buffers) {\n",
              "          for (const buffer of message.buffers) {\n",
              "            buffers.push(buffer);\n",
              "            downloaded += buffer.byteLength;\n",
              "            progress.value = downloaded;\n",
              "          }\n",
              "        }\n",
              "      }\n",
              "      const blob = new Blob(buffers, {type: 'application/binary'});\n",
              "      const a = document.createElement('a');\n",
              "      a.href = window.URL.createObjectURL(blob);\n",
              "      a.download = filename;\n",
              "      div.appendChild(a);\n",
              "      a.click();\n",
              "      div.remove();\n",
              "    }\n",
              "  "
            ],
            "text/plain": [
              "<IPython.core.display.Javascript object>"
            ]
          },
          "metadata": {
            "tags": []
          }
        },
        {
          "output_type": "display_data",
          "data": {
            "application/javascript": [
              "download(\"download_8a7ca838-0faf-4e8c-a17e-2c44fcb9efbd\", \"meta.tsv\", 256)"
            ],
            "text/plain": [
              "<IPython.core.display.Javascript object>"
            ]
          },
          "metadata": {
            "tags": []
          }
        }
      ]
    },
    {
      "cell_type": "code",
      "metadata": {
        "id": "9vuqt95TtjDV"
      },
      "source": [
        "model.save(\"model_LSTM(3).h5\")"
      ],
      "execution_count": null,
      "outputs": []
    },
    {
      "cell_type": "code",
      "metadata": {
        "id": "eQQIl7oU79jE"
      },
      "source": [
        ""
      ],
      "execution_count": null,
      "outputs": []
    }
  ]
}